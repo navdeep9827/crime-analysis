{
  "nbformat": 4,
  "nbformat_minor": 0,
  "metadata": {
    "colab": {
      "provenance": [],
      "include_colab_link": true
    },
    "kernelspec": {
      "name": "python3",
      "display_name": "Python 3"
    },
    "language_info": {
      "name": "python"
    }
  },
  "cells": [
    {
      "cell_type": "markdown",
      "metadata": {
        "id": "view-in-github",
        "colab_type": "text"
      },
      "source": [
        "<a href=\"https://colab.research.google.com/github/navdeep9827/my-projects/blob/master/00_hello_colab.ipynb\" target=\"_parent\"><img src=\"https://colab.research.google.com/assets/colab-badge.svg\" alt=\"Open In Colab\"/></a>"
      ]
    },
    {
      "cell_type": "markdown",
      "source": [
        "[Google Colab](https://colab.research.google.com/) is a hosted Jupyter notebook environment that allows anyone to run Python code via a web-browser. It provides you free computation and data storage that can be utilized by your Python code.\n",
        "\n",
        "You can click the `+Code` button to create a new cell and enter a block of code. To run the code, click the **Run Code** button next to the cell, or press `Shirt+Enter` key."
      ],
      "metadata": {
        "id": "ceEx-y9nSS2w"
      }
    },
    {
      "cell_type": "code",
      "execution_count": null,
      "metadata": {
        "id": "f_43xbJERpr5"
      },
      "outputs": [],
      "source": [
        "print('Hello World')"
      ]
    },
    {
      "cell_type": "markdown",
      "source": [
        "### Package Management"
      ],
      "metadata": {
        "id": "xjhxNMwMWnVO"
      }
    },
    {
      "cell_type": "markdown",
      "source": [
        "Colab comes pre-installed with many Python packages. You can use a package by simply importing it."
      ],
      "metadata": {
        "id": "bWFPnmZiTjnU"
      }
    },
    {
      "cell_type": "code",
      "source": [
        "import pandas as pd\n",
        "import geopandas as gpd"
      ],
      "metadata": {
        "id": "aGpVqvmtTgKe"
      },
      "execution_count": null,
      "outputs": []
    },
    {
      "cell_type": "markdown",
      "source": [
        "Each Colab notebook instance is run on a Ubuntu Linux machine in the cloud. If you want to install any packages, you can run a command by prefixing the command with a `!`. For example, you can install third-party packages via `pip` using the command `!pip`.\n",
        "\n",
        "> Tip: If you want to list all pre-install packages and their versions in your Colab environemnt, you can run `!pip list -v`."
      ],
      "metadata": {
        "id": "Y3VsOFzhT0Do"
      }
    },
    {
      "cell_type": "code",
      "source": [
        "!pip install rioxarray"
      ],
      "metadata": {
        "id": "MW-ZJkPlTzI2"
      },
      "execution_count": null,
      "outputs": []
    },
    {
      "cell_type": "code",
      "source": [
        "import rioxarray"
      ],
      "metadata": {
        "id": "mCD2S6v2Txsh"
      },
      "execution_count": null,
      "outputs": []
    },
    {
      "cell_type": "markdown",
      "source": [
        "### Data Management"
      ],
      "metadata": {
        "id": "RZdVNzPaWqN-"
      }
    },
    {
      "cell_type": "markdown",
      "source": [
        "Colab provides 100GB of disk space along with your notebook. This can be used to store your data, intermediate outputs and results.\n",
        "\n",
        "The code below will create 2 folders named 'data' and 'output' in your local filesystem."
      ],
      "metadata": {
        "id": "XqhJNBE1WwQP"
      }
    },
    {
      "cell_type": "code",
      "source": [
        "import os\n",
        "\n",
        "data_folder = 'data'\n",
        "output_folder = 'output'\n",
        "\n",
        "if not os.path.exists(data_folder):\n",
        "    os.mkdir(data_folder)\n",
        "if not os.path.exists(output_folder):\n",
        "    os.mkdir(output_folder)"
      ],
      "metadata": {
        "id": "olSHRvf1WvkW"
      },
      "execution_count": null,
      "outputs": []
    },
    {
      "cell_type": "markdown",
      "source": [
        "We can download some data from the internet and store it in the Colab environment. Below is a helper function to download a file from a URL."
      ],
      "metadata": {
        "id": "fLh0NSLgXXdj"
      }
    },
    {
      "cell_type": "code",
      "source": [
        "import requests\n",
        "\n",
        "def download(url):\n",
        "    filename = os.path.join(data_folder, os.path.basename(url))\n",
        "    if not os.path.exists(filename):\n",
        "      with requests.get(url, stream=True, allow_redirects=True) as r:\n",
        "          with open(filename, 'wb') as f:\n",
        "              for chunk in r.iter_content(chunk_size=8192):\n",
        "                  f.write(chunk)\n",
        "      print('Downloaded', filename)"
      ],
      "metadata": {
        "id": "mj-PAdjzWsHv"
      },
      "execution_count": null,
      "outputs": []
    },
    {
      "cell_type": "markdown",
      "source": [
        "Let's download the [Populated Places](https://www.naturalearthdata.com/downloads/10m-cultural-vectors/) dataset from Natural Earth."
      ],
      "metadata": {
        "id": "cwqVMovqXr-k"
      }
    },
    {
      "cell_type": "code",
      "source": [
        "download('https://naciscdn.org/naturalearth/10m/cultural/' +\n",
        "         'ne_10m_populated_places_simple.zip')"
      ],
      "metadata": {
        "id": "m-Zh7-XZXqSr"
      },
      "execution_count": null,
      "outputs": []
    },
    {
      "cell_type": "markdown",
      "source": [
        "The file is now in our local filesystem. We can construct the path to the data folder and read it using `geopandas`"
      ],
      "metadata": {
        "id": "yUdH_Hm5Y45w"
      }
    },
    {
      "cell_type": "code",
      "source": [
        "file = 'ne_10m_populated_places_simple.zip'\n",
        "filepath = os.path.join(data_folder, file)\n",
        "places = gpd.read_file(filepath)"
      ],
      "metadata": {
        "id": "VCYS8SlSYCkk"
      },
      "execution_count": null,
      "outputs": []
    },
    {
      "cell_type": "markdown",
      "source": [
        "Let's do some data processing and write the results to a new file. The code below will filter all places which are also country capitals."
      ],
      "metadata": {
        "id": "3kaEfDKPZKxo"
      }
    },
    {
      "cell_type": "code",
      "source": [
        "capitals = places[places['adm0cap'] == 1]\n",
        "capitals"
      ],
      "metadata": {
        "id": "TN71a2vPYjma"
      },
      "execution_count": null,
      "outputs": []
    },
    {
      "cell_type": "markdown",
      "source": [
        "We can write the results to the disk as a GeoPackage file."
      ],
      "metadata": {
        "id": "aF3glHG_ZY4K"
      }
    },
    {
      "cell_type": "code",
      "source": [
        "output_file = 'capitals.gpkg'\n",
        "output_path = os.path.join(output_folder, output_file)\n",
        "capitals.to_file(driver='GPKG', filename=output_path)"
      ],
      "metadata": {
        "id": "60Wc8XblY1XY"
      },
      "execution_count": null,
      "outputs": []
    },
    {
      "cell_type": "markdown",
      "source": [
        "You can open the **Files** tab from the left-hand panel in Colab and browse to the `output` folder. Locate the `capitals.gpkg` file and click the **⋮** button and select *Download* to download the file locally."
      ],
      "metadata": {
        "id": "jVEALmycZrpM"
      }
    },
    {
      "cell_type": "code",
      "source": [
        "!gcloud --version\n",
        "\n"
      ],
      "metadata": {
        "id": "TWsFx-A-UOF0",
        "outputId": "461a5423-eece-4585-8380-5c334b2f24ed",
        "colab": {
          "base_uri": "https://localhost:8080/"
        }
      },
      "execution_count": 1,
      "outputs": [
        {
          "output_type": "stream",
          "name": "stdout",
          "text": [
            "Google Cloud SDK 501.0.0\n"
          ]
        }
      ]
    },
    {
      "cell_type": "code",
      "source": [
        "PROJECT = \"alien-trainer-442308-h8\"\n",
        "!gcloud auth login --project {PROJECT}"
      ],
      "metadata": {
        "id": "PZ5lt34oUPjB",
        "outputId": "1b6d617e-4167-4f46-e14a-33b2c2564e98",
        "colab": {
          "base_uri": "https://localhost:8080/"
        }
      },
      "execution_count": 2,
      "outputs": [
        {
          "output_type": "stream",
          "name": "stdout",
          "text": [
            "Go to the following link in your browser, and complete the sign-in prompts:\n",
            "\n",
            "    https://accounts.google.com/o/oauth2/auth?response_type=code&client_id=32555940559.apps.googleusercontent.com&redirect_uri=https%3A%2F%2Fsdk.cloud.google.com%2Fauthcode.html&scope=openid+https%3A%2F%2Fwww.googleapis.com%2Fauth%2Fuserinfo.email+https%3A%2F%2Fwww.googleapis.com%2Fauth%2Fcloud-platform+https%3A%2F%2Fwww.googleapis.com%2Fauth%2Fappengine.admin+https%3A%2F%2Fwww.googleapis.com%2Fauth%2Fsqlservice.login+https%3A%2F%2Fwww.googleapis.com%2Fauth%2Fcompute+https%3A%2F%2Fwww.googleapis.com%2Fauth%2Faccounts.reauth&state=RJKLibcrZY3iHiIaIDZy6zzUuxKSt0&prompt=consent&token_usage=remote&access_type=offline&code_challenge=oHFcwWYXhtl8GFACt3giK5NcmRHirHglEjh5d_DAKdo&code_challenge_method=S256\n",
            "\n",
            "Once finished, enter the verification code provided in your browser: 4/0AeanS0aC0SQJkK9dS8CyJqhlwrR3tm-0jbZLbEt2Wq4A1zAeHSyyvxSaYyD5fWmioBZcrw\n",
            "\n",
            "You are now logged in as [navdeepsinghgaur@gmail.com].\n",
            "Your current project is [alien-trainer-442308-h8].  You can change this setting by running:\n",
            "  $ gcloud config set project PROJECT_ID\n"
          ]
        }
      ]
    },
    {
      "cell_type": "code",
      "source": [
        "import ee\n",
        "\n",
        "# Authenticate (opens a browser to log in)\n",
        "ee.Authenticate()\n",
        "\n",
        "# Initialize the Earth Engine library\n",
        "ee.Initialize()\n",
        "\n",
        "print(\"Earth Engine initialized successfully!\")\n"
      ],
      "metadata": {
        "id": "7z8vFo0SUdiy",
        "outputId": "5dd2274a-abca-4a5f-94fd-d86e68f7b251",
        "colab": {
          "base_uri": "https://localhost:8080/"
        }
      },
      "execution_count": 5,
      "outputs": [
        {
          "output_type": "stream",
          "name": "stdout",
          "text": [
            "Earth Engine initialized successfully!\n"
          ]
        },
        {
          "output_type": "stream",
          "name": "stderr",
          "text": [
            "*** Earth Engine *** Share your feedback by taking our Annual Developer Satisfaction Survey: https://google.qualtrics.com/jfe/form/SV_0JLhFqfSY1uiEaW?source=Init\n"
          ]
        }
      ]
    },
    {
      "cell_type": "code",
      "source": [
        "import ee\n",
        "\n",
        "# Authenticate manually\n",
        "ee.Authenticate(auth_mode=\"notebook\")\n"
      ],
      "metadata": {
        "id": "xOnvLUlEVU-z",
        "outputId": "c7c98b1f-fe61-4ef7-ee22-f0abaa7d2f8a",
        "colab": {
          "base_uri": "https://localhost:8080/"
        }
      },
      "execution_count": 4,
      "outputs": [
        {
          "output_type": "stream",
          "name": "stdout",
          "text": [
            "To authorize access needed by Earth Engine, open the following URL in a web browser and follow the instructions. If the web browser does not start automatically, please manually browse the URL below.\n",
            "\n",
            "    https://code.earthengine.google.com/client-auth?scopes=https%3A//www.googleapis.com/auth/earthengine%20https%3A//www.googleapis.com/auth/cloud-platform%20https%3A//www.googleapis.com/auth/devstorage.full_control&request_id=RzlzB8judPWV9l-znajX6mESVzuvdiKbTmQEUA8wrnE&tc=K77FXP7ChWntyjGkl4vNbWs_vrcy1CrDIoM-wo_2WTk&cc=OIAMe52RCtDaxcb4F5MwI6_WjiwEWzVEWy0LKw0mFPg\n",
            "\n",
            "The authorization workflow will generate a code, which you should paste in the box below.\n",
            "Enter verification code: 4/1AeanS0YBB2aOaHLr4X3CaRWDZ6j-ayIqRMOfDevhUbZAr0MxlQbzEVxCOH8\n",
            "\n",
            "Successfully saved authorization token.\n"
          ]
        }
      ]
    },
    {
      "cell_type": "code",
      "source": [
        "# Define the MODIS NDVI dataset\n",
        "modis_ndvi = ee.ImageCollection(\"MODIS/006/MOD13Q1\") \\\n",
        "    .filterDate(\"2023-01-01\", \"2023-12-31\") \\\n",
        "    .filterBounds(ee.Geometry.BBox(74.0, 29.0, 77.0, 32.5))  # Bounding box for Punjab\n",
        "\n",
        "# Get the first image\n",
        "first_image = modis_ndvi.first()\n",
        "\n",
        "# Print image details\n",
        "print(\"MODIS NDVI Image Details:\")\n",
        "print(first_image.getInfo())\n"
      ],
      "metadata": {
        "id": "ejET4y48V9MT",
        "outputId": "bb7b564a-dc01-4aeb-fc6f-14f9642472a5",
        "colab": {
          "base_uri": "https://localhost:8080/"
        }
      },
      "execution_count": 6,
      "outputs": [
        {
          "output_type": "stream",
          "name": "stderr",
          "text": [
            "/usr/local/lib/python3.10/dist-packages/ee/deprecation.py:207: DeprecationWarning: \n",
            "\n",
            "Attention required for MODIS/006/MOD13Q1! You are using a deprecated asset.\n",
            "To ensure continued functionality, please update it.\n",
            "Learn more: https://developers.google.com/earth-engine/datasets/catalog/MODIS_006_MOD13Q1\n",
            "\n",
            "  warnings.warn(warning, category=DeprecationWarning)\n"
          ]
        },
        {
          "output_type": "stream",
          "name": "stdout",
          "text": [
            "MODIS NDVI Image Details:\n",
            "{'type': 'Image', 'bands': [{'id': 'NDVI', 'data_type': {'type': 'PixelType', 'precision': 'int', 'min': -32768, 'max': 32767}, 'dimensions': [172800, 67200], 'crs': 'SR-ORG:6974', 'crs_transform': [231.65635826395825, 0, -20015109.354, 0, -231.65635826395834, 8895604.157336]}, {'id': 'EVI', 'data_type': {'type': 'PixelType', 'precision': 'int', 'min': -32768, 'max': 32767}, 'dimensions': [172800, 67200], 'crs': 'SR-ORG:6974', 'crs_transform': [231.65635826395825, 0, -20015109.354, 0, -231.65635826395834, 8895604.157336]}, {'id': 'DetailedQA', 'data_type': {'type': 'PixelType', 'precision': 'int', 'min': 0, 'max': 65535}, 'dimensions': [172800, 67200], 'crs': 'SR-ORG:6974', 'crs_transform': [231.65635826395825, 0, -20015109.354, 0, -231.65635826395834, 8895604.157336]}, {'id': 'sur_refl_b01', 'data_type': {'type': 'PixelType', 'precision': 'int', 'min': -32768, 'max': 32767}, 'dimensions': [172800, 67200], 'crs': 'SR-ORG:6974', 'crs_transform': [231.65635826395825, 0, -20015109.354, 0, -231.65635826395834, 8895604.157336]}, {'id': 'sur_refl_b02', 'data_type': {'type': 'PixelType', 'precision': 'int', 'min': -32768, 'max': 32767}, 'dimensions': [172800, 67200], 'crs': 'SR-ORG:6974', 'crs_transform': [231.65635826395825, 0, -20015109.354, 0, -231.65635826395834, 8895604.157336]}, {'id': 'sur_refl_b03', 'data_type': {'type': 'PixelType', 'precision': 'int', 'min': -32768, 'max': 32767}, 'dimensions': [172800, 67200], 'crs': 'SR-ORG:6974', 'crs_transform': [231.65635826395825, 0, -20015109.354, 0, -231.65635826395834, 8895604.157336]}, {'id': 'sur_refl_b07', 'data_type': {'type': 'PixelType', 'precision': 'int', 'min': -32768, 'max': 32767}, 'dimensions': [172800, 67200], 'crs': 'SR-ORG:6974', 'crs_transform': [231.65635826395825, 0, -20015109.354, 0, -231.65635826395834, 8895604.157336]}, {'id': 'ViewZenith', 'data_type': {'type': 'PixelType', 'precision': 'int', 'min': -32768, 'max': 32767}, 'dimensions': [172800, 67200], 'crs': 'SR-ORG:6974', 'crs_transform': [231.65635826395825, 0, -20015109.354, 0, -231.65635826395834, 8895604.157336]}, {'id': 'SolarZenith', 'data_type': {'type': 'PixelType', 'precision': 'int', 'min': -32768, 'max': 32767}, 'dimensions': [172800, 67200], 'crs': 'SR-ORG:6974', 'crs_transform': [231.65635826395825, 0, -20015109.354, 0, -231.65635826395834, 8895604.157336]}, {'id': 'RelativeAzimuth', 'data_type': {'type': 'PixelType', 'precision': 'int', 'min': -32768, 'max': 32767}, 'dimensions': [172800, 67200], 'crs': 'SR-ORG:6974', 'crs_transform': [231.65635826395825, 0, -20015109.354, 0, -231.65635826395834, 8895604.157336]}, {'id': 'DayOfYear', 'data_type': {'type': 'PixelType', 'precision': 'int', 'min': -32768, 'max': 32767}, 'dimensions': [172800, 67200], 'crs': 'SR-ORG:6974', 'crs_transform': [231.65635826395825, 0, -20015109.354, 0, -231.65635826395834, 8895604.157336]}, {'id': 'SummaryQA', 'data_type': {'type': 'PixelType', 'precision': 'int', 'min': -128, 'max': 127}, 'dimensions': [172800, 67200], 'crs': 'SR-ORG:6974', 'crs_transform': [231.65635826395825, 0, -20015109.354, 0, -231.65635826395834, 8895604.157336]}], 'version': 1674172935760510.0, 'id': 'MODIS/006/MOD13Q1/2023_01_01', 'properties': {'system:time_start': 1672531200000, 'google:max_source_file_timestamp': 1674147783000, 'system:footprint': {'type': 'LinearRing', 'coordinates': [[-180, -90], [180, -90], [180, 90], [-180, 90], [-180, -90]]}, 'system:time_end': 1673913600000, 'system:asset_size': 29365944962, 'system:index': '2023_01_01'}}\n"
          ]
        }
      ]
    },
    {
      "cell_type": "code",
      "source": [],
      "metadata": {
        "id": "U2gHYvUPWpzC"
      },
      "execution_count": null,
      "outputs": []
    }
  ]
}